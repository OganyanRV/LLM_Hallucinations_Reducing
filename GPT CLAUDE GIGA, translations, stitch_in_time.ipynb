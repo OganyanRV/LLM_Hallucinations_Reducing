{
 "cells": [
  {
   "cell_type": "markdown",
   "id": "c4969cb6",
   "metadata": {},
   "source": [
    "# Задача перевода"
   ]
  },
  {
   "cell_type": "markdown",
   "id": "7c8b4d6b",
   "metadata": {},
   "source": [
    "### Вспомогательные функции"
   ]
  },
  {
   "cell_type": "markdown",
   "id": "c8d992c8",
   "metadata": {},
   "source": [
    "PONS Online Dictionary API"
   ]
  },
  {
   "cell_type": "code",
   "execution_count": 103,
   "id": "639ede1e",
   "metadata": {},
   "outputs": [],
   "source": [
    "API_KEY_PONS = '0d66df58d098cfeddd85278e673d49498f239569f9feb6d3356d40d773d3024d'"
   ]
  },
  {
   "cell_type": "code",
   "execution_count": 116,
   "id": "8e649d37",
   "metadata": {},
   "outputs": [
    {
     "name": "stdout",
     "output_type": "stream",
     "text": [
      "servitude переводится как ра́бство \n",
      "liberty переводится как свобо́да \n",
      "sovereignty переводится как суверените́т \n",
      "security of person переводится как Error 204: \n",
      "\n"
     ]
    }
   ],
   "source": [
    "import requests\n",
    "\n",
    "def translate_text_with_pons(term, source_language='en', target_language='ru'):\n",
    "    api_key = API_KEY_PONS\n",
    "    \n",
    "    endpoint = 'https://api.pons.com/v1/dictionary'\n",
    "    \n",
    "    headers = {\n",
    "        'X-Secret': api_key,\n",
    "    }\n",
    "\n",
    "    params = {\n",
    "        'in': 'en',\n",
    "        'language': 'ru',\n",
    "        'l': f'{source_language}{target_language}',\n",
    "         'q': term,\n",
    "    }\n",
    "\n",
    "    response = requests.get(endpoint, headers=headers, params=params)\n",
    "\n",
    "    if response.status_code == 200:\n",
    "        data = response.json()[0]\n",
    "        \n",
    "        translations = data.get('hits', [])\n",
    "        if translations:\n",
    "            try:\n",
    "                translation = translations[0]['roms'][0]['arabs'][0]['translations'][0]['target']\n",
    "                return translation\n",
    "            except:\n",
    "                return f'No translation found for: {term}\\n'\n",
    "        else:\n",
    "            print(f'No translation found for: {term}\\n')\n",
    "    else:\n",
    "        print(f'Error {response.status_code}: {response.text}\\n')\n",
    "\n",
    "\n",
    "terms_to_translate = ['servitude', 'liberty', 'sovereignty', 'security of person']\n",
    "for term in terms_to_translate:\n",
    "    print(f'{term} переводится как', end=' ')\n",
    "    translated = translate_text_with_pons(term)\n",
    "    if translated:\n",
    "        print(f'{translated.split(\"<\")[0]}')\n"
   ]
  },
  {
   "cell_type": "markdown",
   "id": "e6211c04",
   "metadata": {},
   "source": [
    "Reverso API https://context.reverso.net/"
   ]
  },
  {
   "cell_type": "code",
   "execution_count": 117,
   "id": "fcfe2f34",
   "metadata": {},
   "outputs": [],
   "source": [
    "!pip install reverso-api"
   ]
  },
  {
   "cell_type": "code",
   "execution_count": 142,
   "id": "73d89f89",
   "metadata": {},
   "outputs": [],
   "source": [
    "from reverso_api.context import ReversoContextAPI\n",
    "def get_translation(source_text, top_k = 3, source_lang='en', target_lang='ru'):\n",
    "    api = ReversoContextAPI(\n",
    "        source_text=source_text,\n",
    "        target_text='',\n",
    "        source_lang=source_lang,\n",
    "        target_lang=target_lang)\n",
    "\n",
    "    translations = []\n",
    "    for source_word, translation, frequency, part_of_speech, inflected_forms in api.get_translations():\n",
    "        translations.append((translation, frequency))\n",
    "        if len(translations) == top_k:\n",
    "            break\n",
    "    if len(translations) == 0:\n",
    "        return None\n",
    "    translations.sort(key=lambda x: -x[1])\n",
    "    translations, _ = zip(*translations)\n",
    "    return translations"
   ]
  },
  {
   "cell_type": "code",
   "execution_count": 82,
   "id": "e7879c51",
   "metadata": {},
   "outputs": [],
   "source": [
    "def get_contexts(source_text, top_k = 3, source_lang='en', target_lang='ru'):\n",
    "    api = ReversoContextAPI(\n",
    "        source_text=source_text,\n",
    "        target_text='',\n",
    "        source_lang=source_lang,\n",
    "        target_lang=target_lang)\n",
    "    \n",
    "    contexts = []\n",
    "    for source, target in api.get_examples():\n",
    "        contexts.append(source.text + '==' + target.text)\n",
    "        if len(contexts) == top_k:\n",
    "            break\n",
    "    return '\\n'.join(contexts)"
   ]
  },
  {
   "cell_type": "code",
   "execution_count": 54,
   "id": "50db7633",
   "metadata": {},
   "outputs": [
    {
     "data": {
      "text/plain": [
       "('личную неприкосновенность', 'личную безопасность', 'безопасность личности')"
      ]
     },
     "execution_count": 54,
     "metadata": {},
     "output_type": "execute_result"
    }
   ],
   "source": [
    "trans1 = get_translation('security of person', top_k = 3)\n",
    "trans1"
   ]
  },
  {
   "cell_type": "markdown",
   "id": "5e9674e0",
   "metadata": {},
   "source": [
    "Функции для создания нового промпта из ключевых слов и исходного промпта"
   ]
  },
  {
   "cell_type": "code",
   "execution_count": 143,
   "id": "e22cd2a6",
   "metadata": {},
   "outputs": [],
   "source": [
    "def make_prompt(source_prompt, key_words, top_k_translations=3, use_context=False, top_k_context=5):\n",
    "    promt = 'Here are some ground truth information about translations:\\n'\n",
    "    for key_word in key_words:\n",
    "        translations = get_translation(key_word, top_k_translations)\n",
    "        if translations is None:\n",
    "            continue\n",
    "        promt_part = f'{key_word} translates as '\n",
    "        for translation in translations:\n",
    "            promt_part += translation + ' \\ '\n",
    "            \n",
    "        promt += promt_part[:-3] + ';\\n'\n",
    "        \n",
    "        if use_context==True:\n",
    "            context = get_contexts(key_word, top_k_context)\n",
    "            promt += f'Possible contexts for {key_word}:\\n' + context + '.\\n'\n",
    "        \n",
    "        \n",
    "        \n",
    "    return promt[:-2] + '.\\nBased on provided evidence above, ' + source_prompt"
   ]
  },
  {
   "cell_type": "code",
   "execution_count": 93,
   "id": "ed3390c8",
   "metadata": {},
   "outputs": [],
   "source": [
    "# Плохо работает, не используется\n",
    "def make_prompt_with_detection(source_prompt, key_words, **kwargs):\n",
    "    promt = 'Here are some ground truth information about translations:\\n'\n",
    "    for key_word in key_words:\n",
    "        translations = get_translation(key_word, **kwargs)\n",
    "        promt_part = f'{key_word} translates as '\n",
    "        for translation in translations:\n",
    "            promt_part += translation + ' \\ '\n",
    "            \n",
    "        promt += promt_part[:-3] + ';\\n'\n",
    "        \n",
    "    return promt[:-2] + '.\\nBased on provided evidence above, tell me if your translation has mistakes. If so, ' + source_prompt"
   ]
  },
  {
   "cell_type": "markdown",
   "id": "b957d9d3",
   "metadata": {},
   "source": [
    "### Алгоритм починки"
   ]
  },
  {
   "cell_type": "markdown",
   "id": "36ede318",
   "metadata": {},
   "source": [
    "**Шаг 1 - Написание промпта**.\n",
    "\n",
    "Q: Translate the next paragraphs into Russian. Be as precise in terminology as possible.\n",
    "Everyone has the right to life, liberty and security of person\n",
    "\n",
    "A: Каждый человек имеет право на жизнь, свободу и безопасность личности."
   ]
  },
  {
   "cell_type": "markdown",
   "id": "a98c849a",
   "metadata": {},
   "source": [
    "**Шаг 2 - Выделение важных фраз (концепций)**.\n",
    "\n",
    "Q: Identify all the important keyphrases from the above sentence in english and return a comma separated list in quotes\n",
    "\n",
    "or\n",
    "\n",
    "Q: Identify all the important keyphrases from the above sentence in english and return a comma separated list in quotes. Keyphrases should contain just a few words\n",
    "\n",
    "or\n",
    "\n",
    "Q: Identify all the important keyphrases from the above sentence in english and return a comma separated list, every keyphrases in quotes. Keyphrases should contain just a few words\n",
    "\n",
    "A: right to life, liberty, security of person"
   ]
  },
  {
   "cell_type": "markdown",
   "id": "f70bac95",
   "metadata": {},
   "source": [
    "**Шаг 3 - Поиск релевантных знаний в интернете и создание соответствующего промпта (а именно перевод ключевых фраз)**\n",
    "\n",
    "Шаг предполагает использование написанной функции `make_prompt(source_prompt, key_words, top_k_translations=3, use_context=False, top_k_context=5)`\n",
    "\n",
    "Q: Here are some ground truth information about translations:\n",
    "right to life translates as право на жизнь;\n",
    "liberty translates as свобода;\n",
    "security of person translates as личную неприкосновенность.\n",
    "Based on provided evidence above, \n",
    "Translate the next paragraphs into Russian. Be as precise in terminology as possible.\n",
    "Everyone has the right to life, liberty and security of person\n",
    "\n",
    "A: Каждый человек имеет право на жизнь, свободу и личную неприкосновенность"
   ]
  },
  {
   "cell_type": "markdown",
   "id": "cdaba159",
   "metadata": {},
   "source": [
    "### Примеры шага 3"
   ]
  },
  {
   "cell_type": "code",
   "execution_count": 95,
   "id": "e1405da1",
   "metadata": {},
   "outputs": [],
   "source": [
    "source_prompt = '''\n",
    "Translate the next paragraphs into Russian. Be as precise in terminology as possible.\n",
    "Everyone has the right to life, liberty and security of person\n",
    "'''\n",
    "\n",
    "key_words = ['right to life', 'liberty', 'security of person']"
   ]
  },
  {
   "cell_type": "code",
   "execution_count": 96,
   "id": "f79aeef5",
   "metadata": {},
   "outputs": [
    {
     "name": "stdout",
     "output_type": "stream",
     "text": [
      "Here are some ground truth information about translations:\n",
      "right to life translates as право на жизнь;\n",
      "liberty translates as свобода;\n",
      "security of person translates as личную неприкосновенность.\n",
      "Based on provided evidence above, \n",
      "Translate the next paragraphs into Russian. Be as precise in terminology as possible.\n",
      "Everyone has the right to life, liberty and security of person\n",
      "\n"
     ]
    }
   ],
   "source": [
    "print(make_prompt(source_prompt, key_words, top_k_translations=1))"
   ]
  },
  {
   "cell_type": "code",
   "execution_count": 97,
   "id": "8b0ac772",
   "metadata": {},
   "outputs": [
    {
     "name": "stdout",
     "output_type": "stream",
     "text": [
      "Here are some ground truth information about translations:\n",
      "right to life translates as право на жизнь;\n",
      "Possible contexts for right to life:\n",
      "Gender-biased legal systems also jeopardize women's right to life.==Правовые системы, поощряющие предвзятое отношение к женщинам, также ставят под угрозу их право на жизнь.\n",
      "Innocent people had an equal right to life.==Ни в чем не повинные люди имеют такое же право на жизнь.\n",
      "Otherwise, she has no right to life.==А, следовательно, у нее нет и права на жизнь..\n",
      "liberty translates as свобода;\n",
      "Possible contexts for liberty:\n",
      "Capitalism and liberty are concepts that cannot be untangled.==Капитализм и свобода - понятия, которые не могут существовать отдельно.\n",
      "Only liberty can ensure individual development and diversity.==Только свобода может гарантировать человеку его индивидуальное развитие и разнообразие.\n",
      "It says that all anarchists want liberty.==Оно говорит о том, что все анархисты хотят свободы..\n",
      "security of person translates as личную неприкосновенность;\n",
      "Possible contexts for security of person:\n",
      "Concern was expressed over the right to security of person, particularly for indigenous inhabitants and illegal immigrants.==Также высказывается обеспокоенность по поводу права на личную неприкосновенность прежде всего в том, что касается коренных жителей и незаконных иммигрантов.\n",
      "People with disability have the right to liberty and security of person on an equal basis with others.==Лица с инвалидностью имеют право наравне с другими на свободу и личную неприкосновенность.\n",
      "Indigenous individuals have the rights to life, physical and mental integrity, liberty and security of person.==Лица, принадлежащие к коренным народам, имеют право на жизнь, физическую и психическую неприкосновенность, свободу и личную безопасность..\n",
      "Based on provided evidence above, \n",
      "Translate the next paragraphs into Russian. Be as precise in terminology as possible.\n",
      "Everyone has the right to life, liberty and security of person\n",
      "\n"
     ]
    }
   ],
   "source": [
    "print(make_prompt(source_prompt, key_words, top_k_translations=1, use_context=True, top_k_context=3))"
   ]
  },
  {
   "cell_type": "code",
   "execution_count": 98,
   "id": "c9444dbd",
   "metadata": {},
   "outputs": [
    {
     "name": "stdout",
     "output_type": "stream",
     "text": [
      "Here are some ground truth information about translations:\n",
      "right to life translates as право на жизнь;\n",
      "liberty translates as свобода;\n",
      "security of person translates as личную неприкосновенность.\n",
      "Based on provided evidence above, tell me if your translation has mistakes. If so, \n",
      "Translate the next paragraphs into Russian. Be as precise in terminology as possible.\n",
      "Everyone has the right to life, liberty and security of person\n",
      "\n"
     ]
    }
   ],
   "source": [
    "print(make_prompt_with_detection(source_prompt, key_words, top_k=1))"
   ]
  },
  {
   "cell_type": "markdown",
   "id": "d35ae876",
   "metadata": {},
   "source": [
    "### Chatgpt fix"
   ]
  },
  {
   "cell_type": "markdown",
   "id": "c44930ce",
   "metadata": {},
   "source": [
    "#### 1. Everyone is entitled to all the rights"
   ]
  },
  {
   "cell_type": "code",
   "execution_count": 100,
   "id": "a517130a",
   "metadata": {},
   "outputs": [],
   "source": [
    "source_prompt = '''\n",
    "Translate the next paragraphs into Russian. Be as precise in terminology as possible.\n",
    "Everyone is entitled to all the rights and freedoms set forth in this Declaration, without distinction of any kind, such as race, colour, sex, language, religion, political or other opinion, national or social origin, property, birth or other status. Furthermore, no distinction shall be made on the basis of the political, jurisdictional or international status of the country or territory to which a person belongs, whether it be independent, trust, non-self-governing or under any other limitation of sovereignty.\n",
    "'''\n",
    "key_words = [\"every person\", \"right to all rights and freedoms\", \"this Declaration\", \"distinction of any kind\", \"race, color, sex, language, religion, political or other opinion, national or social origin, property, birth or other status\", \"no distinction shall be made\", \"political, jurisdictional or international status of the country or territory\", \"independent, trust, non-self-governing or under any other limitation of sovereignty\"]"
   ]
  },
  {
   "cell_type": "code",
   "execution_count": 111,
   "id": "c550419d",
   "metadata": {},
   "outputs": [
    {
     "name": "stdout",
     "output_type": "stream",
     "text": [
      "Here are some ground truth information about translations:\n",
      "every person translates as каждый человек;\n",
      "this Declaration translates as настоящей Декларации;\n",
      "distinction of any kind translates as какой-либо дискриминации;\n",
      "no distinction shall be made translates as должно проводиться никакого различия;\n",
      "political, jurisdictional or international status of the country or territory translates as политического, правового или международного статуса страны или территории;\n",
      "independent, trust, non-self-governing or under any other limitation of sovereignty translates as независимой, подопечной, несамоуправляющейся или как-либо иначе ограниченной.\n",
      "Based on provided evidence above, \n",
      "Translate the next paragraphs into Russian. Be as precise in terminology as possible.\n",
      "Everyone is entitled to all the rights and freedoms set forth in this Declaration, without distinction of any kind, such as race, colour, sex, language, religion, political or other opinion, national or social origin, property, birth or other status. Furthermore, no distinction shall be made on the basis of the political, jurisdictional or international status of the country or territory to which a person belongs, whether it be independent, trust, non-self-governing or under any other limitation of sovereignty.\n",
      "\n"
     ]
    }
   ],
   "source": [
    "print(make_prompt(source_prompt, key_words, top_k_translations=1))"
   ]
  },
  {
   "cell_type": "markdown",
   "id": "3bef01b3",
   "metadata": {},
   "source": [
    "#### 2. Everyone has the right to life, liberty and security of person"
   ]
  },
  {
   "cell_type": "code",
   "execution_count": 112,
   "id": "a9e129a7",
   "metadata": {},
   "outputs": [],
   "source": [
    "source_prompt = '''\n",
    "Translate the next paragraphs into Russian. Be as precise in terminology as possible. Everyone has the right to life, liberty and security of person.\n",
    "'''\n",
    "key_words = [\"right to life\", \"liberty\", \"security of person\"]"
   ]
  },
  {
   "cell_type": "code",
   "execution_count": 113,
   "id": "3c827129",
   "metadata": {},
   "outputs": [
    {
     "name": "stdout",
     "output_type": "stream",
     "text": [
      "Here are some ground truth information about translations:\n",
      "right to life translates as право на жизнь;\n",
      "liberty translates as свобода;\n",
      "security of person translates as личную неприкосновенность.\n",
      "Based on provided evidence above, \n",
      "Translate the next paragraphs into Russian. Be as precise in terminology as possible. Everyone has the right to life, liberty and security of person.\n",
      "\n"
     ]
    }
   ],
   "source": [
    "print(make_prompt(source_prompt, key_words, top_k_translations=1))"
   ]
  },
  {
   "cell_type": "markdown",
   "id": "33667b8e",
   "metadata": {},
   "source": [
    "#### 3. No one shall be held in slavery or servitude; slavery and the slave trade shall be prohibited in all their forms"
   ]
  },
  {
   "cell_type": "code",
   "execution_count": 114,
   "id": "30f5cbd4",
   "metadata": {},
   "outputs": [],
   "source": [
    "source_prompt = '''\n",
    "Translate the next paragraphs into Russian. Be as precise in terminology as possible.\n",
    "No one shall be held in slavery or servitude; slavery and the slave trade shall be prohibited in all their forms.\n",
    "'''\n",
    "key_words = [\"held in slavery or servitude\", \"slavery and the slave trade\", \"prohibited in all their forms\"]"
   ]
  },
  {
   "cell_type": "code",
   "execution_count": 115,
   "id": "73170a3b",
   "metadata": {},
   "outputs": [
    {
     "name": "stdout",
     "output_type": "stream",
     "text": [
      "Here are some ground truth information about translations:\n",
      "held in slavery or servitude translates as содержаться в рабстве или в подневольном состоянии;\n",
      "slavery and the slave trade translates as рабства и работорговли;\n",
      "prohibited in all their forms translates as запрещаются во всех их видах.\n",
      "Based on provided evidence above, \n",
      "Translate the next paragraphs into Russian. Be as precise in terminology as possible.\n",
      "No one shall be held in slavery or servitude; slavery and the slave trade shall be prohibited in all their forms.\n",
      "\n"
     ]
    }
   ],
   "source": [
    "print(make_prompt(source_prompt, key_words, top_k_translations=1))"
   ]
  },
  {
   "cell_type": "markdown",
   "id": "3d68ab84",
   "metadata": {},
   "source": [
    "#### 4. Everyone has the right to recognition everywhere as a person before the law."
   ]
  },
  {
   "cell_type": "code",
   "execution_count": 116,
   "id": "f4f6c87b",
   "metadata": {},
   "outputs": [],
   "source": [
    "source_prompt = '''\n",
    "Translate the next paragraphs into Russian. Be as precise in terminology as possible.\n",
    "Everyone has the right to recognition everywhere as a person before the law.\n",
    "'''\n",
    "key_words = [\"right to recognition\", \"everywhere as a person\", \"before the law\"]"
   ]
  },
  {
   "cell_type": "code",
   "execution_count": 119,
   "id": "b465367f",
   "metadata": {},
   "outputs": [],
   "source": [
    "key_words = [\"right to recognition everywhere\", \"as a person before the law\"]"
   ]
  },
  {
   "cell_type": "code",
   "execution_count": 121,
   "id": "c5f5755c",
   "metadata": {},
   "outputs": [
    {
     "name": "stdout",
     "output_type": "stream",
     "text": [
      "Here are some ground truth information about translations:\n",
      "as a person before the law translates as его правосубъектности \\ Правосубъектность;\n",
      "Possible contexts for as a person before the law:\n",
      "Report on birth registration and the right of everyone to recognition everywhere as a person before the law (June 2014)==Доклад по вопросу о регистрации рождения и праве каждого человека на повсеместное признание его правосубъектности (июнь 2014 г.)\n",
      "5.3 The Committee notes that the author's claim under article 16 has not been substantiated, as there is no information on file which suggests that the author's son was denied recognition as a person before the law.==5.3 Комитет отмечает, что жалоба автора сообщения в соответствии со статьей 16 не обоснована, поскольку в материалах дела не имеется информации, которая указывала бы на то, что сыну автора сообщения было отказано в признании его правосубъектности..\n",
      "Based on provided evidence above, \n",
      "Translate the next paragraphs into Russian. Be as precise in terminology as possible.\n",
      "Everyone has the right to recognition everywhere as a person before the law.\n",
      "\n"
     ]
    }
   ],
   "source": [
    "print(make_prompt(source_prompt, key_words, top_k_translations=2, use_context=True, top_k_context=2))"
   ]
  },
  {
   "cell_type": "markdown",
   "id": "0feecc75",
   "metadata": {},
   "source": [
    "#### 5. Everyone has the right to an effective remedy by the competent national tribunals for acts violating the fundamental rights granted him by the constitution or by law."
   ]
  },
  {
   "cell_type": "code",
   "execution_count": 122,
   "id": "abee21ae",
   "metadata": {},
   "outputs": [],
   "source": [
    "source_prompt = '''\n",
    "Translate the next paragraphs into Russian. Be as precise in terminology as possible.\n",
    "Everyone has the right to an effective remedy by the competent national tribunals for acts violating the fundamental rights granted him by the constitution or by law.\n",
    "'''\n",
    "key_words = [\"right to an effective remedy\", \"competent national tribunals\", \"acts violating the fundamental rights\", \"granted him by the constitution or by law\"]"
   ]
  },
  {
   "cell_type": "code",
   "execution_count": 126,
   "id": "957ab408",
   "metadata": {},
   "outputs": [
    {
     "name": "stdout",
     "output_type": "stream",
     "text": [
      "Here are some ground truth information about translations:\n",
      "right to an effective remedy translates as право на эффективную правовую защиту \\ права на эффективную правовую защиту;\n",
      "Possible contexts for right to an effective remedy:\n",
      "It might be useful for the Committee to understand how the right to an effective remedy functioned in the case law of other treaty bodies.==Комитету было бы целесообразно разобраться, каким образом право на эффективную правовую защиту действует в прецедентном праве других договорных органов.\n",
      "As a general rule, the right to an effective remedy is recognized in Burkina Faso.==В целом в Буркина-Фасо признано право на эффективную правовую защиту..\n",
      "competent national tribunals translates as компетентные национальные суды \\ компетентных национальных судов;\n",
      "Possible contexts for competent national tribunals:\n",
      "Availability of effective protection and remedies in competent national tribunals to guarantee fundamental freedoms==Обеспечение эффективной защиты и средств защиты через компетентные национальные суды в случае нарушений основных свобод\n",
      "through the competent national tribunals and other institutions,==средства защиты через компетентные национальные суды и.\n",
      "acts violating the fundamental rights translates as случаях нарушения его основных прав;\n",
      "Possible contexts for acts violating the fundamental rights:\n",
      "States should describe the effective remedies that are available to any individual through the competent national tribunals for acts violating the fundamental rights granted by the constitution or by law.==Государствам следует представить информацию об эффективных средствах правовой защиты, которые имеются в распоряжении всех лиц, в рамках компетентных национальных судов в связи с действиями, нарушающими основные права, гарантированные конституцией или законом.\n",
      "Everyone has the right to an effective remedy by the competent national tribunals for acts violating the fundamental rights granted him by the constitution or by law.==Каждый человек имеет право на эффективное восстановление в правах компетентными национальными судами в случаях нарушения его основных прав, предоставленных ему конституцией или законом..\n",
      "Based on provided evidence above, \n",
      "Translate the next paragraphs into Russian. Be as precise in terminology as possible.\n",
      "Everyone has the right to an effective remedy by the competent national tribunals for acts violating the fundamental rights granted him by the constitution or by law.\n",
      "\n"
     ]
    }
   ],
   "source": [
    "print(make_prompt(source_prompt, key_words, top_k_translations=2, use_context=True, top_k_context=2))"
   ]
  },
  {
   "cell_type": "markdown",
   "id": "963f3443",
   "metadata": {},
   "source": [
    "#### 6. \"1. Everyone has the right to freedom of peaceful assembly and association. 2. No one may be compelled to belong to an association.\""
   ]
  },
  {
   "cell_type": "code",
   "execution_count": 136,
   "id": "2deedc9d",
   "metadata": {},
   "outputs": [],
   "source": [
    "source_prompt = '''\n",
    "Translate the next paragraphs into Russian. Be as precise in terminology as possible.\n",
    "1. Everyone has the right to freedom of peaceful assembly and association.\n",
    "2. No one may be compelled to belong to an association.\n",
    "'''\n",
    "key_words = [\"right to freedom of peaceful assembly\", \"right to freedom of association\", \"compelled to belong\", \"association\"]"
   ]
  },
  {
   "cell_type": "code",
   "execution_count": 137,
   "id": "0cb40019",
   "metadata": {},
   "outputs": [
    {
     "name": "stdout",
     "output_type": "stream",
     "text": [
      "Here are some ground truth information about translations:\n",
      "right to freedom of association translates as права на свободу ассоциации;\n",
      "compelled to belong translates as принужден к вступлению;\n",
      "association translates as ассоциация.\n",
      "Based on provided evidence above, \n",
      "Translate the next paragraphs into Russian. Be as precise in terminology as possible.\n",
      "1. Everyone has the right to freedom of peaceful assembly and association.\n",
      "2. No one may be compelled to belong to an association.\n",
      "\n"
     ]
    }
   ],
   "source": [
    "print(make_prompt(source_prompt, key_words, top_k_translations=1))"
   ]
  },
  {
   "cell_type": "markdown",
   "id": "1c31ba12",
   "metadata": {},
   "source": [
    "#### 7. Everyone has the right to education...."
   ]
  },
  {
   "cell_type": "code",
   "execution_count": 132,
   "id": "1955260a",
   "metadata": {},
   "outputs": [],
   "source": [
    "source_prompt = '''\n",
    "Translate the next paragraphs into Russian. Be as precise in terminology as possible.\n",
    "1. Everyone has the right to education. Education shall be free, at least in the elementary and fundamental stages. Elementary education shall be compulsory. Technical and professional education shall be made generally available and higher education shall be equally accessible to all on the basis of merit.\n",
    "2. Education shall be directed to the full development of the human personality and to the strengthening of respect for human rights and fundamental freedoms. It shall promote understanding, tolerance and friendship among all nations, racial or religious groups, and shall further the activities of the United Nations for the maintenance of peace.\n",
    "3. Parents have a prior right to choose the kind of education that shall be given to their children.\n",
    "'''\n",
    "key_words = [\"right to education\", \"free\", \"elementary and fundamental stages\", \"compulsory\", \"technical and professional education\", \"higher education\", \"equally accessible\", \"basis of merit\"\n",
    "\"directed to the full development of the human personality\", \"strengthening of respect for human rights and fundamental freedoms\", \"promote understanding, tolerance, and friendship\", \"United Nations\", \"maintenance of peace\"\n",
    "\"Parents have a prior right\", \"choose the kind of education\", \"given to their children\"]"
   ]
  },
  {
   "cell_type": "code",
   "execution_count": 133,
   "id": "e741f8fc",
   "metadata": {},
   "outputs": [
    {
     "name": "stdout",
     "output_type": "stream",
     "text": [
      "Here are some ground truth information about translations:\n",
      "right to education translates as права на образование \\ право на образование;\n",
      "Possible contexts for right to education:\n",
      "Thus, the right to education in socialist countries where...==Так, право на образование в социалистических странах, в которых провозглашается единство...\n",
      "The second-ranking ethnic group not realizing their right to education were the Vlachs.==На втором месте среди этнических групп, не реализующих свое право на образование, находились влахи..\n",
      "free translates as свободный \\ бесплатный;\n",
      "Possible contexts for free:\n",
      "Linux is free software (free meaning freedom).==Linux - это свободное (т.е. бесплатное) программное обеспечение.\n",
      "Other categories include free, mostly free, moderately free and repressed.==В нем есть свободные страны, в основном свободные, умеренно свободные, подавленные..\n",
      "compulsory translates as обязательный \\ принудительный;\n",
      "Possible contexts for compulsory:\n",
      "In some countries preferences are voluntary; elsewhere they are compulsory.==В некоторых странах льготы носят добровольный характер, а в других - обязательный.\n",
      "I would urge our government to incorporate self-defence as a compulsory subject.==«Я хотела бы призвать наше правительство включить самооборону в качестве обязательного предмета в школе..\n",
      "technical and professional education translates as технического и профессионального образования \\ техническое и профессиональное образование;\n",
      "Possible contexts for technical and professional education:\n",
      "List of educational programs of qualification upgradingfor engineering and teaching staff of technical and professional education system.==Перечень образовательных программ повышения квалификации инженерно-педагогических работников системы технического и профессионального образования.\n",
      "We have to take all the necessary steps to enhance technical and professional education at all levels.==Необходимо принять адекватные меры, направленные на развитие технического и профессионального образования на всех уровнях..\n",
      "higher education translates as высшее образование \\ высшая школа;\n",
      "Possible contexts for higher education:\n",
      "The first one we'll explore is higher education.==Первым фактором, который мы будем рассматривать, является высшее образование.\n",
      "In many countries, higher education is free or just symbolic.==В некоторых странах высшее образование полностью бесплатное, или же плата за обучение там чисто символическая..\n",
      "equally accessible translates as одинаково доступны \\ равной степени доступны;\n",
      "Possible contexts for equally accessible:\n",
      "The parking will be designed to be equally accessible to both residents and tourists.==Автомобильные парковки будут одинаково доступны как для местных жителей так для и туристов.\n",
      "There are equally accessible all kinds of marine recreation and all the achievements of urban civilization.==Здесь одинаково доступны и любые виды морского отдыха, и все достижения городской цивилизации..\n",
      "United Nations translates as Организации Объединенных Наций \\ оон;\n",
      "Possible contexts for United Nations:\n",
      "Here United Nations intervention appears less needed.==Представляется, что в этой области вмешательство Организации Объединенных Наций необходимо в меньшей степени.\n",
      "Four United Nations soldiers were wounded.==Получили ранения и четверо военнослужащих из состава Временных сил Организации Объединенных Наций..\n",
      "choose the kind of education translates as выбирать вид образования \\ выборе вида образования;\n",
      "Possible contexts for choose the kind of education:\n",
      "Scores of parents are denied the right to choose the kind of education their child should be given, are coerced into administering mind-altering psychiatric drugs, or forced to subject their children to mandatory \"screening\" for mental disorders for which no scientific evidence exists.==Множеству родителей было отказано в праве выбирать вид образования, который они могли бы дать своему ребёнку, их принуждали давать детям психиатрические препараты, изменяющие сознание или заставляли отдавать своих детей на обязательное «обследование» на предмет умственных расстройств, для которого не было никакого научного обоснования.\n",
      "In the Covenant, the right of parents or guardians to choose the kind of education that shall be given to their children is recognized, provided it conforms to the minimum educational standards.==Пакт признает право родителей или опекунов выбирать вид образования, которое должно предоставляться их детям, при условии его соответствия минимальным образовательным нормам..\n",
      "given to their children translates as для своих малолетних детей \\ получат их дети;\n",
      "Possible contexts for given to their children:\n",
      "The rationale is that they allow parents to freely choose the modality care of given to their children.==Выплата таких пособий объясняется тем, что они позволяют родителям свободно выбирать способ ухода за своими детьми.\n",
      "We in no way be given to their children abroad.==Нам ни в коем случае нельзя отдавать своих детей за границу..\n",
      "Based on provided evidence above, \n",
      "Translate the next paragraphs into Russian. Be as precise in terminology as possible.\n",
      "1. Everyone has the right to education. Education shall be free, at least in the elementary and fundamental stages. Elementary education shall be compulsory. Technical and professional education shall be made generally available and higher education shall be equally accessible to all on the basis of merit.\n",
      "2. Education shall be directed to the full development of the human personality and to the strengthening of respect for human rights and fundamental freedoms. It shall promote understanding, tolerance and friendship among all nations, racial or religious groups, and shall further the activities of the United Nations for the maintenance of peace.\n",
      "3. Parents have a prior right to choose the kind of education that shall be given to their children.\n",
      "\n"
     ]
    }
   ],
   "source": [
    "print(make_prompt(source_prompt, key_words, top_k_translations=2, use_context=True, top_k_context=2))"
   ]
  },
  {
   "cell_type": "markdown",
   "id": "782cb7c6",
   "metadata": {},
   "source": [
    "#### 8. Everyone has the right freely to participate"
   ]
  },
  {
   "cell_type": "code",
   "execution_count": 138,
   "id": "7ea2cf31",
   "metadata": {},
   "outputs": [],
   "source": [
    "source_prompt = '''\n",
    "Translate the next paragraphs into Russian. Be as precise in terminology as possible.\n",
    "1. Everyone has the right freely to participate in the cultural life of the community, to enjoy the arts and to share in scientific advancement and its benefits.\n",
    "2. Everyone has the right to the protection of the moral and material interests resulting from any scientific, literary or artistic production of which he is the author.\n",
    "'''\n",
    "key_words = [\"right to freely participate\", \"cultural life of the community\", \"enjoy the arts\", \"share in scientific advancement\", \"benefits\", \"protection of moral and material interests\", \"scientific, literary or artistic production\", \"author\"]"
   ]
  },
  {
   "cell_type": "code",
   "execution_count": 141,
   "id": "9fe28966",
   "metadata": {},
   "outputs": [
    {
     "name": "stdout",
     "output_type": "stream",
     "text": [
      "Here are some ground truth information about translations:\n",
      "right to freely participate translates as право на свободное участие;\n",
      "Possible contexts for right to freely participate:\n",
      "Everyone shall have the right to freely participate and organise peaceful, unarmed assemblies.==Каждый имеет право на свободное участие и организацию мирных собраний без оружия..\n",
      "cultural life of the community translates as культурной жизни общества;\n",
      "Possible contexts for cultural life of the community:\n",
      "We believe in everyone's right to participate in the cultural life of the community and to enjoy the arts.==Каждый имеет право на свободу участвовать в культурной жизни общества, наслаждаться искусством..\n",
      "enjoy the arts translates as наслаждаться искусством;\n",
      "Possible contexts for enjoy the arts:\n",
      "We believe in everyone's right to participate in the cultural life of the community and to enjoy the arts.==Каждый имеет право на свободу участвовать в культурной жизни общества, наслаждаться искусством..\n",
      "share in scientific advancement translates as участвовать в научном прогрессе;\n",
      "Possible contexts for share in scientific advancement:\n",
      "cultural life of the community, to enjoy the arts and to share in scientific advancement==культурной жизни общества, наслаждаться искусством, участвовать в научном прогрессе и.\n",
      "benefits translates as преимущества;\n",
      "Possible contexts for benefits:\n",
      "Incorporating it into everyday ritual cancels its benefits.==Включение классической музыки в ежедневный ритуал укладывания даёт возможность использовать все её преимущества в полной мере..\n",
      "scientific, literary or artistic production translates as научными, литературными или художественными трудами;\n",
      "Possible contexts for scientific, literary or artistic production:\n",
      "To benefit from the protection of the moral and material interests resulting from any scientific, literary or artistic production of which he is the author.==(с) пользование защитой моральных и материальных интересов, возникающих в связи с любыми научными, литературными или художественными трудами, автором которых он является..\n",
      "author translates as автор;\n",
      "Possible contexts for author:\n",
      "Authors must ensure that their Work meets the requirements of IEEE Policy 6.4, including provisions covering originality, authorship, author responsibilities and author misconduct.==Авторы должны гарантировать, что их работа отвечает требованиям стандарта IEEE 6.4 политики, включая положения, касающиеся оригинальность, авторство, автор, обязанностей и автор проступок..\n",
      "Based on provided evidence above, \n",
      "Translate the next paragraphs into Russian. Be as precise in terminology as possible.\n",
      "1. Everyone has the right freely to participate in the cultural life of the community, to enjoy the arts and to share in scientific advancement and its benefits.\n",
      "2. Everyone has the right to the protection of the moral and material interests resulting from any scientific, literary or artistic production of which he is the author.\n",
      "\n"
     ]
    }
   ],
   "source": [
    "print(make_prompt(source_prompt, key_words, top_k_translations=1, use_context=True, top_k_context=1))"
   ]
  },
  {
   "cell_type": "markdown",
   "id": "fb7db3c3",
   "metadata": {},
   "source": [
    "### Claude fix"
   ]
  },
  {
   "cell_type": "markdown",
   "id": "5149ff27",
   "metadata": {},
   "source": [
    "#### 1. Everyone has the right to an effective remedy by the competent national tribunals for acts violating the fundamental rights granted him by the constitution or by law."
   ]
  },
  {
   "cell_type": "code",
   "execution_count": 152,
   "id": "4db41284",
   "metadata": {},
   "outputs": [],
   "source": [
    "source_prompt = '''\n",
    "Translate the next paragraphs into Russian. Be as precise in terminology as possible.\n",
    "Everyone has the right to an effective remedy by the competent national tribunals for acts violating the fundamental rights granted him by the constitution or by law.\n",
    "'''\n",
    "key_words = [\"right to an effective remedy\", \"competent national tribunals\", \"acts violating the fundamental rights\", \n",
    "             \"rights granted by the constitution or by law\"]"
   ]
  },
  {
   "cell_type": "code",
   "execution_count": 157,
   "id": "82fd5f93",
   "metadata": {},
   "outputs": [
    {
     "name": "stdout",
     "output_type": "stream",
     "text": [
      "Here are some ground truth information about translations:\n",
      "right to an effective remedy translates as право на эффективную правовую защиту \\ права на эффективную правовую защиту;\n",
      "Possible contexts for right to an effective remedy:\n",
      "It might be useful for the Committee to understand how the right to an effective remedy functioned in the case law of other treaty bodies.==Комитету было бы целесообразно разобраться, каким образом право на эффективную правовую защиту действует в прецедентном праве других договорных органов.\n",
      "As a general rule, the right to an effective remedy is recognized in Burkina Faso.==В целом в Буркина-Фасо признано право на эффективную правовую защиту.\n",
      "Member States shall provide for reasonable ï time limits and other necessary rules for the applicant to exercise his/her right to an effective remedy pursuant to paragraph 1.==Государства-члены устанавливают предельные сроки и другие необходимые правила для осуществления заявителем права на эффективную правовую защиту во исполнение пункта 1..\n",
      "competent national tribunals translates as компетентные национальные суды \\ компетентных национальных судов;\n",
      "Possible contexts for competent national tribunals:\n",
      "Availability of effective protection and remedies in competent national tribunals to guarantee fundamental freedoms==Обеспечение эффективной защиты и средств защиты через компетентные национальные суды в случае нарушений основных свобод\n",
      "through the competent national tribunals and other institutions,==средства защиты через компетентные национальные суды и\n",
      "States should describe the effective remedies that are available to any individual through the competent national tribunals for acts violating the fundamental rights granted by the constitution or by law.==Государствам следует представить информацию об эффективных средствах правовой защиты, которые имеются в распоряжении всех лиц, в рамках компетентных национальных судов в связи с действиями, нарушающими основные права, гарантированные конституцией или законом..\n",
      "acts violating the fundamental rights translates as случаях нарушения его основных прав;\n",
      "Possible contexts for acts violating the fundamental rights:\n",
      "States should describe the effective remedies that are available to any individual through the competent national tribunals for acts violating the fundamental rights granted by the constitution or by law.==Государствам следует представить информацию об эффективных средствах правовой защиты, которые имеются в распоряжении всех лиц, в рамках компетентных национальных судов в связи с действиями, нарушающими основные права, гарантированные конституцией или законом.\n",
      "Everyone has the right to an effective remedy by the competent national tribunals for acts violating the fundamental rights granted him by the constitution or by law.==Каждый человек имеет право на эффективное восстановление в правах компетентными национальными судами в случаях нарушения его основных прав, предоставленных ему конституцией или законом.\n",
      "tribunals for acts violating the fundamental rights granted him by the constitution or by law.==судами в случае нарушения его основных прав, предоставленных ему Конституцией или законом..\n",
      "Based on provided evidence above, \n",
      "Translate the next paragraphs into Russian. Be as precise in terminology as possible.\n",
      "Everyone has the right to an effective remedy by the competent national tribunals for acts violating the fundamental rights granted him by the constitution or by law.\n",
      "\n"
     ]
    }
   ],
   "source": [
    "print(make_prompt(source_prompt, key_words, top_k_translations=2, use_context=True, top_k_context=3))"
   ]
  },
  {
   "cell_type": "markdown",
   "id": "6737248a",
   "metadata": {},
   "source": [
    "#### 2. Everyone has the right freely to participate"
   ]
  },
  {
   "cell_type": "code",
   "execution_count": 158,
   "id": "808382d1",
   "metadata": {},
   "outputs": [],
   "source": [
    "source_prompt = '''\n",
    "Translate the next paragraphs into Russian. Be as precise in terminology as possible.\n",
    "1. Everyone has the right freely to participate in the cultural life of the community, to enjoy the arts and to share in scientific advancement and its benefits.\n",
    "2. Everyone has the right to the protection of the moral and material interests resulting from any scientific, literary or artistic production of which he is the author.\n",
    "'''\n",
    "key_words = [\"right to participate\",\"cultural life\",\"enjoy the arts\",\"share in scientific advancement\",\"protection of moral interests\",\"protection of material interests\",\"scientific production\",\"literary production\",\"artistic production\",\"author\"]"
   ]
  },
  {
   "cell_type": "code",
   "execution_count": 160,
   "id": "33254d9e",
   "metadata": {},
   "outputs": [
    {
     "name": "stdout",
     "output_type": "stream",
     "text": [
      "Here are some ground truth information about translations:\n",
      "right to participate translates as право участвовать \\ право на участие;\n",
      "Possible contexts for right to participate:\n",
      "Everyone has the right to participate in health-related decision-making that affects them.==Каждый человек имеет право участвовать в процессе принятия решений, касающихся вопросов здравоохранения и затрагивающих его..\n",
      "cultural life translates as культурной жизни \\ культурную жизнь;\n",
      "Possible contexts for cultural life:\n",
      "Every cultural sector contributes to the citizens' access to cultural life.==Кроме того, каждый сектор культуры франкоговорящего сообщества способствует в целом тому, чтобы граждане имели доступ к культурной жизни..\n",
      "enjoy the arts translates as наслаждаться искусством \\ насладитесь искусством;\n",
      "Possible contexts for enjoy the arts:\n",
      "We believe in everyone's right to participate in the cultural life of the community and to enjoy the arts.==Каждый имеет право на свободу участвовать в культурной жизни общества, наслаждаться искусством..\n",
      "share in scientific advancement translates as участвовать в научном прогрессе;\n",
      "Possible contexts for share in scientific advancement:\n",
      "cultural life of the community, to enjoy the arts and to share in scientific advancement==культурной жизни общества, наслаждаться искусством, участвовать в научном прогрессе и.\n",
      "scientific production translates as научно-производственный \\ научная продукция;\n",
      "Possible contexts for scientific production:\n",
      "Our company - is a scientific production complex with a complete cycle of works, from the generation of marketing and technical ideas and their embodiment of finishing in the actual production.==Наша компания это уникальный научно-производственный комплекс с полным циклом работ, начиная от генерации маркетинговых и технических идей и заканчивая их воплощением в реальное производство..\n",
      "literary production translates as литературные произведения \\ литературное произведение;\n",
      "Possible contexts for literary production:\n",
      "The Scriptures are subjected to the same process of investigation and analysis as any other literary production of antiquity, with no other purpose than to ascertain the real facts in the case.==Писания подвергают такому же исследованию и анализу, как и любое другое литературное произведение древности, с единственной целью - установить истинное положение вещей..\n",
      "artistic production translates as художественного производства \\ художественной продукции;\n",
      "Possible contexts for artistic production:\n",
      "The programme explores new forms of artistic production and professional agency within the broader field of contemporary art and visual culture.==Программа исследует новые формы художественного производства и профессиональное агентство в рамках более широкой области современного искусства и визуальной культуры..\n",
      "author translates as автор \\ писатель;\n",
      "Possible contexts for author:\n",
      "Authors must ensure that their Work meets the requirements of IEEE Policy 6.4, including provisions covering originality, authorship, author responsibilities and author misconduct.==Авторы должны гарантировать, что их работа отвечает требованиям стандарта IEEE 6.4 политики, включая положения, касающиеся оригинальность, авторство, автор, обязанностей и автор проступок..\n",
      "Based on provided evidence above, \n",
      "Translate the next paragraphs into Russian. Be as precise in terminology as possible.\n",
      "1. Everyone has the right freely to participate in the cultural life of the community, to enjoy the arts and to share in scientific advancement and its benefits.\n",
      "2. Everyone has the right to the protection of the moral and material interests resulting from any scientific, literary or artistic production of which he is the author.\n",
      "\n"
     ]
    }
   ],
   "source": [
    "print(make_prompt(source_prompt, key_words, top_k_translations=2, use_context=True, top_k_context=1))"
   ]
  },
  {
   "cell_type": "markdown",
   "id": "fdc082a0",
   "metadata": {},
   "source": [
    "### Gigachat fix"
   ]
  },
  {
   "cell_type": "markdown",
   "id": "19cef733",
   "metadata": {},
   "source": [
    "#### 1. All human beings are born free and equal in dignity and rights"
   ]
  },
  {
   "cell_type": "code",
   "execution_count": 161,
   "id": "542e9e4c",
   "metadata": {},
   "outputs": [],
   "source": [
    "source_prompt = '''\n",
    "Translate the next paragraphs into Russian. Be as precise in terminology as possible.\n",
    "All human beings are born free and equal in dignity and rights. They are endowed with reason and conscience and should act towards one another in a spirit of brotherhood.\n",
    "'''\n",
    "key_words = [\"All human beings\", \"born free and equal\", \"dignity and rights\", \"endowed with reason and conscience\", \"should act towards one another\", \"spirit of brotherhood\"]"
   ]
  },
  {
   "cell_type": "code",
   "execution_count": 163,
   "id": "6e88d6d9",
   "metadata": {},
   "outputs": [
    {
     "name": "stdout",
     "output_type": "stream",
     "text": [
      "Here are some ground truth information about translations:\n",
      "All human beings translates as всех людей \\ все люди;\n",
      "Possible contexts for All human beings:\n",
      "All human beings have the same brain structures and regions.==У всех людей одинаковые структуры мозга и регионы.\n",
      "All human beings share the same universal needs and that behind every negative emotion lies an unmet universal need.==У всех людей есть одинаковые универсальные потребности и что за каждой негативной эмоцией скрывается неудовлетворенная универсальная потребность..\n",
      "born free and equal translates as рождаются свободными и равными \\ рождены свободными и равными;\n",
      "Possible contexts for born free and equal:\n",
      "All people are born free and equal the advantage and the rights.==Все люди рождаются свободными и равными в своем достоинстве и правах.\n",
      "It sets the highest standards by asserting that all people are born free and equal in dignity and rights.==Она определяет самые высокие нормы, подтверждая, что все люди рождаются свободными и равными в своем достоинстве и правах..\n",
      "dignity and rights translates as достоинства и прав \\ достоинство и права;\n",
      "Possible contexts for dignity and rights:\n",
      "Everyone is equal in dignity and rights.==Мы все равны в том, что касается достоинства и прав.\n",
      "I commend all those who work for the dignity and rights of others in this world.==Я выражаю похвалу всем тем, кто работает ради достоинства и прав других людей в этом мире..\n",
      "endowed with reason and conscience translates as наделены разумом и совестью;\n",
      "Possible contexts for endowed with reason and conscience:\n",
      "All human beings are born free and equal. They are endowed with reason and conscience and should act towards one another in a spirit of brotherhood.==Все люди рождаются свободными и равными. Они наделены разумом и совестью и должны поступать в отношении друг друга в духе братства.\n",
      "They are endowed with reason and conscience and should act towards one another in a spirit of brotherhood\", Article 1).==Они наделены разумом и совестью и должны поступать в отношении друг друга в духе братства», статья 1)..\n",
      "should act towards one another translates as должны поступать в отношении друг друга \\ должны относиться друг к другу;\n",
      "Possible contexts for should act towards one another:\n",
      "It is essential that we understand how we, as individuals and as employees of this company, should act towards one another, our customers, our clients and anyone we deal with during the course of our professional day.==Очень важно, что мы, независимо от того являемся ли мы отдельными лицами либо сотрудниками этой компании, понимаем как мы должны относиться друг к другу, к нашим заказчикам, клиентам и любому другому лицу, с которым мы контактируем в течение нашего рабочего дня.\n",
      "In keeping with Article 1 of the UN Bill of Human Rights, the Code is based on the premise that human beings are born free and equal in dignity and rights and should act towards one another in the spirit of brotherhood.==В соответствии с первой статьей Билля ООН о правах человека, это обращение основано на той предпосылке, что люди рождаются свободными и равными в своем достоинстве и правах, и должны относиться друг к другу в духе братства..\n",
      "spirit of brotherhood translates as духе братства \\ дух братства;\n",
      "Possible contexts for spirit of brotherhood:\n",
      "We can help each other in the spirit of brotherhood and build our future strategy.==Мы можем помочь друг другу в духе братства и строить нашу будущую стратегию.\n",
      "This obedience is not a military discipline, but should be fulfilled in a spirit of brotherhood.==Послушание - не военное наказание, но оно должно быть выполнено в духе братства..\n",
      "Based on provided evidence above, \n",
      "Translate the next paragraphs into Russian. Be as precise in terminology as possible.\n",
      "All human beings are born free and equal in dignity and rights. They are endowed with reason and conscience and should act towards one another in a spirit of brotherhood.\n",
      "\n"
     ]
    }
   ],
   "source": [
    "print(make_prompt(source_prompt, key_words, top_k_translations=2, use_context=True, top_k_context=2))"
   ]
  },
  {
   "cell_type": "markdown",
   "id": "d728282d",
   "metadata": {},
   "source": [
    "#### 2. Everyone is entitled to all the rights and"
   ]
  },
  {
   "cell_type": "code",
   "execution_count": 164,
   "id": "d7ed2378",
   "metadata": {},
   "outputs": [],
   "source": [
    "source_prompt = '''\n",
    "Translate the next paragraphs into Russian. Be as precise in terminology as possible.\n",
    "Everyone is entitled to all the rights and freedoms set forth in this Declaration, without distinction of any kind, such as race, colour, sex, language, religion, political or other opinion, national or social origin, property, birth or other status. Furthermore, no distinction shall be made on the basis of the political, jurisdictional or international status of the country or territory to which a person belongs, whether it be independent, trust, non-self-governing or under any other limitation of sovereignty.\n",
    "'''\n",
    "key_words = [\"All human beings\", \"born free and equal\", \"dignity and rights\", \"endowed with reason and conscience\", \n",
    "             \"should act towards one another in a spirit of brotherhood\", \"Everyone is entitled to all the rights and freedoms set forth in this Declaration\",\n",
    "             \"without distinction of any kind\", \"such as race colour sex language religion political or other opinion\", \n",
    "             \"national or social origin\", \"property birth or other status\", \n",
    "             \"no distinction shall be made on the basis of the political jurisdictional or international status of the country or territory to which a person belongs\",\n",
    "             \"whether it be independent trust non-self-governing or under any other limitation of sovereignty\"]"
   ]
  },
  {
   "cell_type": "code",
   "execution_count": 167,
   "id": "e454df6d",
   "metadata": {},
   "outputs": [
    {
     "name": "stdout",
     "output_type": "stream",
     "text": [
      "Here are some ground truth information about translations:\n",
      "All human beings translates as всех людей \\ все люди;\n",
      "Possible contexts for All human beings:\n",
      "All human beings have the same brain structures and regions.==У всех людей одинаковые структуры мозга и регионы..\n",
      "born free and equal translates as рождаются свободными и равными \\ рождены свободными и равными;\n",
      "Possible contexts for born free and equal:\n",
      "All people are born free and equal the advantage and the rights.==Все люди рождаются свободными и равными в своем достоинстве и правах..\n",
      "dignity and rights translates as достоинства и прав \\ достоинство и права;\n",
      "Possible contexts for dignity and rights:\n",
      "Everyone is equal in dignity and rights.==Мы все равны в том, что касается достоинства и прав..\n",
      "endowed with reason and conscience translates as наделены разумом и совестью;\n",
      "Possible contexts for endowed with reason and conscience:\n",
      "All human beings are born free and equal. They are endowed with reason and conscience and should act towards one another in a spirit of brotherhood.==Все люди рождаются свободными и равными. Они наделены разумом и совестью и должны поступать в отношении друг друга в духе братства..\n",
      "without distinction of any kind translates as без каких-либо различий \\ без какой-либо дискриминации;\n",
      "Possible contexts for without distinction of any kind:\n",
      "The Rules are always to be applied impartially and without distinction of any kind.==Правила во всех случаях должны применяться беспристрастно и без каких-либо различий..\n",
      "national or social origin translates as национального или социального происхождения \\ национальное или социальное происхождение;\n",
      "Possible contexts for national or social origin:\n",
      "Impermissible grounds for discrimination include race, skin colour, language, religion, national or social origin or association with a national minority.==В частности, не допускается дискриминация по признаку расы, цвета кожи, языка, религии, национального или социального происхождения и принадлежности к национальным меньшинствам..\n",
      "Based on provided evidence above, \n",
      "Translate the next paragraphs into Russian. Be as precise in terminology as possible.\n",
      "Everyone is entitled to all the rights and freedoms set forth in this Declaration, without distinction of any kind, such as race, colour, sex, language, religion, political or other opinion, national or social origin, property, birth or other status. Furthermore, no distinction shall be made on the basis of the political, jurisdictional or international status of the country or territory to which a person belongs, whether it be independent, trust, non-self-governing or under any other limitation of sovereignty.\n",
      "\n"
     ]
    }
   ],
   "source": [
    "print(make_prompt(source_prompt, key_words, top_k_translations=2, use_context=True, top_k_context=1))"
   ]
  },
  {
   "cell_type": "markdown",
   "id": "48531fd1",
   "metadata": {},
   "source": [
    "#### 3. Everyone has the right to life, liberty and security of person."
   ]
  },
  {
   "cell_type": "code",
   "execution_count": 168,
   "id": "d09537ec",
   "metadata": {},
   "outputs": [],
   "source": [
    "source_prompt = '''\n",
    "Translate the next paragraphs into Russian. Be as precise in terminology as possible.\n",
    "Everyone has the right to life, liberty and security of person.\n",
    "'''\n",
    "key_words = [\"right to life\", \"liberty\", \"security of person\"]"
   ]
  },
  {
   "cell_type": "code",
   "execution_count": 170,
   "id": "d4ee51aa",
   "metadata": {},
   "outputs": [
    {
     "name": "stdout",
     "output_type": "stream",
     "text": [
      "Here are some ground truth information about translations:\n",
      "right to life translates as право на жизнь;\n",
      "Possible contexts for right to life:\n",
      "Gender-biased legal systems also jeopardize women's right to life.==Правовые системы, поощряющие предвзятое отношение к женщинам, также ставят под угрозу их право на жизнь..\n",
      "liberty translates as свобода;\n",
      "Possible contexts for liberty:\n",
      "Capitalism and liberty are concepts that cannot be untangled.==Капитализм и свобода - понятия, которые не могут существовать отдельно..\n",
      "security of person translates as личную неприкосновенность;\n",
      "Possible contexts for security of person:\n",
      "Concern was expressed over the right to security of person, particularly for indigenous inhabitants and illegal immigrants.==Также высказывается обеспокоенность по поводу права на личную неприкосновенность прежде всего в том, что касается коренных жителей и незаконных иммигрантов..\n",
      "Based on provided evidence above, \n",
      "Translate the next paragraphs into Russian. Be as precise in terminology as possible.\n",
      "Everyone has the right to life, liberty and security of person.\n",
      "\n"
     ]
    }
   ],
   "source": [
    "print(make_prompt(source_prompt, key_words, top_k_translations=1, use_context=True, top_k_context=1))"
   ]
  },
  {
   "cell_type": "markdown",
   "id": "aa926c34",
   "metadata": {},
   "source": [
    "## And so on... Гигачад не работает :)"
   ]
  },
  {
   "cell_type": "markdown",
   "id": "08cbc6ef",
   "metadata": {},
   "source": [
    "#### 4. No one shall be held in slavery or servitude"
   ]
  },
  {
   "cell_type": "code",
   "execution_count": null,
   "id": "93c27ac9",
   "metadata": {},
   "outputs": [],
   "source": [
    "source_prompt = '''\n",
    "'''\n",
    "key_words = []"
   ]
  },
  {
   "cell_type": "code",
   "execution_count": null,
   "id": "24aad9be",
   "metadata": {},
   "outputs": [],
   "source": [
    "print(make_prompt(source_prompt, key_words, top_k_translations=1))"
   ]
  },
  {
   "cell_type": "markdown",
   "id": "1c0789ac",
   "metadata": {},
   "source": [
    "#### 5. Everyone has the right to recognition"
   ]
  },
  {
   "cell_type": "code",
   "execution_count": null,
   "id": "50d7b68c",
   "metadata": {},
   "outputs": [],
   "source": [
    "source_prompt = '''\n",
    "'''\n",
    "key_words = []"
   ]
  },
  {
   "cell_type": "code",
   "execution_count": null,
   "id": "3eaae9b9",
   "metadata": {},
   "outputs": [],
   "source": [
    "print(make_prompt(source_prompt, key_words, top_k_translations=1))"
   ]
  },
  {
   "cell_type": "markdown",
   "id": "818d3e7d",
   "metadata": {},
   "source": [
    "#### 6. Everyone has the right to an effective remedy"
   ]
  },
  {
   "cell_type": "code",
   "execution_count": null,
   "id": "038c6e88",
   "metadata": {},
   "outputs": [],
   "source": [
    "source_prompt = '''\n",
    "'''\n",
    "key_words = []"
   ]
  },
  {
   "cell_type": "code",
   "execution_count": null,
   "id": "7428d279",
   "metadata": {},
   "outputs": [],
   "source": [
    "print(make_prompt(source_prompt, key_words, top_k_translations=1))"
   ]
  },
  {
   "cell_type": "markdown",
   "id": "b7bc657f",
   "metadata": {},
   "source": [
    "#### 7. No one shall be subjected to arbitrary arrest"
   ]
  },
  {
   "cell_type": "code",
   "execution_count": null,
   "id": "0a114d91",
   "metadata": {},
   "outputs": [],
   "source": [
    "source_prompt = '''\n",
    "'''\n",
    "key_words = []"
   ]
  },
  {
   "cell_type": "code",
   "execution_count": null,
   "id": "02570fc3",
   "metadata": {},
   "outputs": [],
   "source": [
    "print(make_prompt(source_prompt, key_words, top_k_translations=1))"
   ]
  },
  {
   "cell_type": "markdown",
   "id": "329c0b82",
   "metadata": {},
   "source": [
    "#### 8.  Everyone has the right to freedom of"
   ]
  },
  {
   "cell_type": "code",
   "execution_count": null,
   "id": "4fab243f",
   "metadata": {},
   "outputs": [],
   "source": [
    "source_prompt = '''\n",
    "'''\n",
    "key_words = []"
   ]
  },
  {
   "cell_type": "code",
   "execution_count": null,
   "id": "2f1e5559",
   "metadata": {},
   "outputs": [],
   "source": [
    "print(make_prompt(source_prompt, key_words, top_k_translations=1))"
   ]
  },
  {
   "cell_type": "markdown",
   "id": "39571ca6",
   "metadata": {},
   "source": [
    "#### 9. .Everyone has the right to take part in the"
   ]
  },
  {
   "cell_type": "code",
   "execution_count": null,
   "id": "02299bde",
   "metadata": {},
   "outputs": [],
   "source": [
    "source_prompt = '''\n",
    "'''\n",
    "key_words = []"
   ]
  },
  {
   "cell_type": "code",
   "execution_count": null,
   "id": "046f5ce2",
   "metadata": {},
   "outputs": [],
   "source": [
    "print(make_prompt(source_prompt, key_words, top_k_translations=1))"
   ]
  },
  {
   "cell_type": "markdown",
   "id": "da8967a5",
   "metadata": {},
   "source": [
    "#### 10. Everyone, as a member of society, has the"
   ]
  },
  {
   "cell_type": "code",
   "execution_count": null,
   "id": "2ffcb7c5",
   "metadata": {},
   "outputs": [],
   "source": [
    "source_prompt = '''\n",
    "'''\n",
    "key_words = []"
   ]
  },
  {
   "cell_type": "code",
   "execution_count": null,
   "id": "01d95ba8",
   "metadata": {},
   "outputs": [],
   "source": [
    "print(make_prompt(source_prompt, key_words, top_k_translations=1))"
   ]
  },
  {
   "cell_type": "markdown",
   "id": "b7a4b882",
   "metadata": {},
   "source": [
    "#### 11. Everyone has the right to rest and leisure"
   ]
  },
  {
   "cell_type": "code",
   "execution_count": null,
   "id": "83ed0ef6",
   "metadata": {},
   "outputs": [],
   "source": [
    "source_prompt = '''\n",
    "'''\n",
    "key_words = []"
   ]
  },
  {
   "cell_type": "code",
   "execution_count": null,
   "id": "a0cb3623",
   "metadata": {},
   "outputs": [],
   "source": [
    "print(make_prompt(source_prompt, key_words, top_k_translations=1))"
   ]
  },
  {
   "cell_type": "markdown",
   "id": "1db1de5c",
   "metadata": {},
   "source": [
    "#### 12. Everyone has the right freely to participate"
   ]
  },
  {
   "cell_type": "code",
   "execution_count": null,
   "id": "f0988e92",
   "metadata": {},
   "outputs": [],
   "source": [
    "source_prompt = '''\n",
    "'''\n",
    "key_words = []"
   ]
  },
  {
   "cell_type": "code",
   "execution_count": null,
   "id": "788bb5c5",
   "metadata": {},
   "outputs": [],
   "source": [
    "print(make_prompt(source_prompt, key_words, top_k_translations=1))"
   ]
  }
 ],
 "metadata": {
  "kernelspec": {
   "display_name": "Python 3 (ipykernel)",
   "language": "python",
   "name": "python3"
  },
  "language_info": {
   "codemirror_mode": {
    "name": "ipython",
    "version": 3
   },
   "file_extension": ".py",
   "mimetype": "text/x-python",
   "name": "python",
   "nbconvert_exporter": "python",
   "pygments_lexer": "ipython3",
   "version": "3.9.12"
  }
 },
 "nbformat": 4,
 "nbformat_minor": 5
}
