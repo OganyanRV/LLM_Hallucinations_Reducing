{
 "cells": [
  {
   "cell_type": "markdown",
   "id": "bb4f6118",
   "metadata": {},
   "source": [
    "# Задача объяснения смысла"
   ]
  },
  {
   "cell_type": "markdown",
   "id": "d90a84ef",
   "metadata": {},
   "source": [
    "### Вспомогательные функции"
   ]
  },
  {
   "cell_type": "markdown",
   "id": "c6e89441",
   "metadata": {},
   "source": [
    "freeDictionary API https://github.com/maxzhenzhera/python-freeDictionaryAPI"
   ]
  },
  {
   "cell_type": "code",
   "execution_count": 70,
   "id": "c0b8311a",
   "metadata": {},
   "outputs": [],
   "source": [
    "!pip install python-freeDictionaryAPI httpx"
   ]
  },
  {
   "cell_type": "code",
   "execution_count": 90,
   "id": "92a4c33c",
   "metadata": {},
   "outputs": [],
   "source": [
    "from freedictionaryapi.clients.sync_client import DictionaryApiClient\n",
    "\n",
    "def get_definitions(search_query, top_k_results=5):\n",
    "    with DictionaryApiClient() as client:\n",
    "         parser = client.fetch_parser(search_query)        \n",
    "    definitions = []\n",
    "    for meaning in parser.word.meanings:\n",
    "        for definition in meaning.definitions:\n",
    "            definitions.append(definition.definition)\n",
    "    return definitions[:top_k_results]"
   ]
  },
  {
   "cell_type": "markdown",
   "id": "2b478c8c",
   "metadata": {},
   "source": [
    "Wikipedia API"
   ]
  },
  {
   "cell_type": "code",
   "execution_count": 45,
   "id": "92797672",
   "metadata": {
    "scrolled": true
   },
   "outputs": [],
   "source": [
    "!pip install wikipedia-api"
   ]
  },
  {
   "cell_type": "code",
   "execution_count": 63,
   "id": "3092fd1f",
   "metadata": {},
   "outputs": [],
   "source": [
    "import wikipediaapi\n",
    "import requests\n",
    "\n",
    "API_KEY = 'YOUR_APP_NAME (YOUR_EMAIL_OR_CONTACT_PAGE)'\n",
    "\n",
    "def get_wikipedia_summary(search_query, top_k_results=5, language_code='en'):\n",
    "    headers = {\n",
    "        'User-Agent': API_KEY\n",
    "    }\n",
    "\n",
    "    base_url = 'https://api.wikimedia.org/core/v1/wikipedia/'\n",
    "    endpoint = '/search/page'\n",
    "    url = base_url + language_code + endpoint\n",
    "    parameters = {'q': search_query, 'limit': top_k_results}\n",
    "    response = requests.get(url, headers=headers, params=parameters)\n",
    "    \n",
    "    titles = [page['title'] for page in response.json()['pages']]\n",
    "    \n",
    "    wiki_wiki = wikipediaapi.Wikipedia(\n",
    "    user_agent=API_KEY,\n",
    "        language=language_code,\n",
    "        extract_format=wikipediaapi.ExtractFormat.WIKI\n",
    "    )\n",
    "\n",
    "    summaries = [wiki_wiki.page(title).summary for title in titles]\n",
    "    return summaries"
   ]
  },
  {
   "cell_type": "markdown",
   "id": "0f9dea9f",
   "metadata": {},
   "source": [
    "Функция для создания нового промпта"
   ]
  },
  {
   "cell_type": "code",
   "execution_count": 107,
   "id": "fa958f2c",
   "metadata": {},
   "outputs": [],
   "source": [
    "def make_prompt(source_prompt, source_word, top_k_definitions=3, top_k_wikipedia=2):\n",
    "    promt = f'Here are some ground truth information about {source_word}:\\n'\n",
    "    summaries = get_wikipedia_summary(source_word, top_k_results=top_k_wikipedia)\n",
    "    definitions = get_definitions(source_word, top_k_results=top_k_definitions)\n",
    "    if len(summaries) > 0:\n",
    "        promt += ''.join(summaries) + '\\n'\n",
    "    if len(definitions) > 0:\n",
    "        promt += ''.join(definitions) + '\\n'  \n",
    "        \n",
    "    return promt[:-2] + '.\\nUsing provided evidence above, ' + source_prompt"
   ]
  },
  {
   "cell_type": "code",
   "execution_count": 112,
   "id": "13b5eb7b",
   "metadata": {},
   "outputs": [
    {
     "name": "stdout",
     "output_type": "stream",
     "text": [
      "Here are some ground truth information about billon:\n",
      "Billon may refer to:\n",
      "\n",
      "Billon (alloy), a metal alloy containing mostly copper or bronze with small quantity of silverBillon () is an alloy of a precious metal (most commonly silver, but also gold) with a majority base metal content (such as copper). It is used chiefly for making coins, medals, and token coins.\n",
      "The word comes from the French bille, which means \"log\".\n",
      "Any of several alloys of precious metals and base metals that are used (where legal) to make coins, medals etc.\n",
      "Using provided evidence above, Can you explain what is billon?\n"
     ]
    }
   ],
   "source": [
    "print(make_prompt('Can you explain what is billon?', 'billon', top_k_definitions=3, top_k_wikipedia=2))"
   ]
  },
  {
   "cell_type": "markdown",
   "id": "c178c2ab",
   "metadata": {},
   "source": [
    "### Агоритм починки"
   ]
  },
  {
   "attachments": {},
   "cell_type": "markdown",
   "id": "ae353b8d",
   "metadata": {},
   "source": [
    "**Шаг 1 - Написание промпта**.\n",
    "\n",
    "Q: Can you explain what is billon?\n",
    "\n",
    "A: Sure, a billion is a number equal to 1,000 million or 1,000,000,000 (one thousand million). It has 9 zeros after the initial digit..."
   ]
  },
  {
   "cell_type": "markdown",
   "id": "9f012ce4",
   "metadata": {},
   "source": [
    "**Шаг 2 - Поиск релевантных знаний в интернете и создание соответствующего промпта**\n"
   ]
  },
  {
   "cell_type": "markdown",
   "id": "cbacfd50",
   "metadata": {},
   "source": [
    "Шаг предполагает использование написанной функции `make_prompt(source_prompt, source_word, top_k_definitions=3, top_k_wikipedia=2)`\n",
    "\n",
    "Q: Here are some ground truth information about billon:\n",
    "Billon may refer to:\n",
    "\n",
    "Billon (alloy), a metal alloy containing mostly copper or bronze with small quantity of silverBillon () is an alloy of a precious metal (most commonly silver, but also gold) with a majority base metal content (such as copper). It is used chiefly for making coins, medals, and token coins.\n",
    "The word comes from the French bille, which means \"log\".\n",
    "Any of several alloys of precious metals and base metals that are used (where legal) to make coins, medals etc.\n",
    "Using provided evidence above, Can you explain what is billon?\n",
    "\n",
    "A: Certainly! According to the provided information, \"billon\" refers to an alloy used in the production of coins, medals, and token coins. This alloy is typically composed of a precious metal, most commonly silver but sometimes gold, with a majority base metal content such as copper. The purpose of using billon is to create a material that has some of the desirable properties of the precious metal while being more cost-effective due to the inclusion of a less expensive base metal.\n",
    "\n",
    "The term \"billon\" is derived from the French word \"bille,\" which means \"log.\" It is likely that this term was historically associated with the alloy due to its composition or appearance.\n",
    "\n",
    "In summary, billon is a type of alloy that combines a precious metal with a base metal, primarily used in the minting of coins, medals, and token coins."
   ]
  },
  {
   "cell_type": "markdown",
   "id": "4c8bc1be",
   "metadata": {},
   "source": [
    "### Chatgpt fix"
   ]
  },
  {
   "cell_type": "markdown",
   "id": "6a333066",
   "metadata": {},
   "source": [
    "#### 1. Billon"
   ]
  },
  {
   "attachments": {},
   "cell_type": "markdown",
   "id": "32a41f53",
   "metadata": {},
   "source": [
    "Q: Can you explain what is billon?\n",
    "\n",
    "A: Certainly! The term \"\"billion\"\" can have different meanings depending on the context and the region in which it's used. Historically, there have been variations in the definition of a billion, but in contemporary usage, there are two main systems: the long scale and the short scale.\n",
    "\n",
    "1. Long scale: In some European countries, such as France and Germany, the long scale system was traditionally used. In this system, a billion equals a million millions, which is equivalent to 1,000,000,000,000 (1 followed by 12 zeros). This system extends similarly with trillion being 1 followed by 18 zeros, quadrillion as 1 followed by 24 zeros, and so forth.\n",
    "\n",
    "2. Short scale: The short scale system is commonly used in English-speaking countries and is also recognized by various international organizations. In this system, a billion equals a thousand millions, which is equivalent to 1,000,000,000 (1 followed by 9 zeros). The short scale continues with a trillion being 1 followed by 12 zeros, quadrillion as 1 followed by 15 zeros, and so on.\n",
    "\n",
    "Due to the differences in these definitions, the term \"\"billion\"\" can lead to confusion when dealing with very large numbers. To mitigate this confusion, it's sometimes helpful to specify whether you're using the long scale or the short scale when referring to extremely large numerical values."
   ]
  },
  {
   "cell_type": "markdown",
   "id": "69ec6f9a",
   "metadata": {},
   "source": [
    "Q: Here are some ground truth information about billon:\n",
    "Billon may refer to:\n",
    "\n",
    "Billon (alloy), a metal alloy containing mostly copper or bronze with small quantity of silverBillon () is an alloy of a precious metal (most commonly silver, but also gold) with a majority base metal content (such as copper). It is used chiefly for making coins, medals, and token coins.\n",
    "The word comes from the French bille, which means \"log\".\n",
    "Any of several alloys of precious metals and base metals that are used (where legal) to make coins, medals etc.\n",
    "Using provided evidence above, Can you explain what is billon?\n",
    "\n",
    "A: Certainly! According to the provided information, \"billon\" refers to an alloy used in the production of coins, medals, and token coins. This alloy is typically composed of a precious metal, most commonly silver but sometimes gold, with a majority base metal content such as copper. The purpose of using billon is to create a material that has some of the desirable properties of the precious metal while being more cost-effective due to the inclusion of a less expensive base metal.\n",
    "\n",
    "The term \"billon\" is derived from the French word \"bille,\" which means \"log.\" It is likely that this term was historically associated with the alloy due to its composition or appearance.\n",
    "\n",
    "In summary, billon is a type of alloy that combines a precious metal with a base metal, primarily used in the minting of coins, medals, and token coins."
   ]
  },
  {
   "cell_type": "markdown",
   "id": "2e9b66d3",
   "metadata": {},
   "source": [
    "#### 2. Mousehole"
   ]
  },
  {
   "attachments": {},
   "cell_type": "markdown",
   "id": "650d5eb6",
   "metadata": {},
   "source": [
    "Q: Can you explain what is mousehole?\n",
    "\n",
    "A: \"In the context of oil and gas drilling, a \"\"mousehole\"\" refers to a secondary hole that's drilled adjacent to the primary drilling hole, known as the \"\"rat hole.\"\" These holes are typically found on drilling rigs.\n",
    "\n",
    "Here's a breakdown of these terms:\n",
    "\n",
    "1. **Rat Hole:** This is the initial, shallower hole drilled to set the surface casing. Once this hole reaches a certain depth, it's set aside and covered (usually with a protective casing) to maintain its integrity. This allows the main drilling operation to continue without obstruction.\n",
    "\n",
    "2. **Mousehole:** The mousehole is a smaller diameter hole drilled close to the primary wellbore. It's often used for storing the drill pipe that's not actively being used during the drilling process. This hole is smaller and shallower than the primary wellbore.\n",
    "\n",
    "The purpose of the mousehole is to provide a convenient location to temporarily store sections of the drill string when they're not in use. This helps in efficiently managing the drilling process, allowing for quick access to additional sections of the drill string when needed without taking up valuable space on the drilling rig floor.\"\n"
   ]
  },
  {
   "cell_type": "code",
   "execution_count": 113,
   "id": "78f5802d",
   "metadata": {
    "scrolled": true
   },
   "outputs": [
    {
     "name": "stdout",
     "output_type": "stream",
     "text": [
      "Here are some ground truth information about mousehole:\n",
      "Mousehole (; Cornish: Porthenys) is a village and fishing port in Cornwall, England, UK. It is approximately 2.5 miles (4 km) south of Penzance on the shore of Mount's Bay. The village is in the civil parish of Penzance. An islet called St Clement's Isle lies about 350 metres (380 yd) offshore from the harbour entrance.\n",
      "Mousehole lies within the Cornwall Area of Outstanding Natural Beauty (AONB). 27% of Cornwall has AONB designation, with the same status and protection as a National Park.\n",
      "A hole through which a mouse enters a room.Any small hole or opening.(drilling) The storage area on a drilling rig where the next joint of drilling pipe is held until needed.\n",
      "Using provided evidence above, Can you explain what is mousehole?\n"
     ]
    }
   ],
   "source": [
    "print(make_prompt('Can you explain what is mousehole?', 'mousehole', top_k_definitions=3, top_k_wikipedia=1))"
   ]
  },
  {
   "cell_type": "markdown",
   "id": "4986840a",
   "metadata": {},
   "source": [
    "A: Based on the provided information, \"Mousehole\" can refer to multiple things:\n",
    "\n",
    "Location in Cornwall, England:\n",
    "\n",
    "Mousehole is a village and fishing port in Cornwall, England, located approximately 2.5 miles south of Penzance on the shore of Mount's Bay.\n",
    "It is situated in the civil parish of Penzance.\n",
    "There is an islet called St Clement's Isle, located about 350 meters offshore from the harbor entrance.\n",
    "Geographical and Environmental Context:\n",
    "\n",
    "Mousehole is within the Cornwall Area of Outstanding Natural Beauty (AONB), indicating that the area is recognized for its natural and scenic significance.\n",
    "The Cornwall AONB designation provides the same status and protection as a National Park, emphasizing the importance of preserving the area's natural beauty.\n",
    "Alternative Definitions:\n",
    "\n",
    "In a general sense, a \"mousehole\" refers to a hole through which a mouse enters a room, or any small hole or opening.\n",
    "In the context of drilling, it can also refer to the storage area on a drilling rig where the next joint of drilling pipe is held until needed.\n",
    "It's important to note that the term \"mousehole\" can have different meanings depending on the context in which it is used. In the geographical context provided, it primarily refers to the village and fishing port in Cornwall, England."
   ]
  },
  {
   "cell_type": "markdown",
   "id": "3bc31674",
   "metadata": {},
   "source": [
    "### Claude fix"
   ]
  },
  {
   "attachments": {},
   "cell_type": "markdown",
   "id": "487e686e",
   "metadata": {},
   "source": [
    "Q: Can you explain what is billon?\n",
    "A: \n",
    "A billion is a number represented as either:\n",
    "\n",
    "1,000,000,000 (10 to the power of 9) - This is known as the short scale definition used in countries like the United States and Canada.\n",
    "OR\n",
    "\n",
    "1,000,000,000,000 (10 to the power of 12) - This is known as the long scale definition used in countries like the United Kingdom and France.\n",
    "The difference comes down to how various numeric scales are defined.\n",
    "\n",
    "In short scale countries, the scales goes:\n",
    "Thousand, Million, Billion, Trillion, Quadrillion, Quintillion, etc...\n",
    "Where each term is 1,000 times greater than the previous one.\n",
    "\n",
    "In long scale countries, the scale goes:\n",
    "Thousand, Million, Milliard, Billion, Billiard, Trillion, Trilliard, etc...\n",
    "Where each term is 1,000,000 times greater than the previous one.\n",
    "\n",
    "So a billion equals either:\n",
    "\n",
    "1,000 millions (short scale) or\n",
    "1 million millions (long scale)\n",
    "This numeric terminology difference can cause confusion when comparing large numbers internationally. Care must be taken to clarify which scale is being referred to when using terms like billion."
   ]
  },
  {
   "cell_type": "markdown",
   "id": "79d86f75",
   "metadata": {},
   "source": [
    "Q: Here are some ground truth information about billon: Billon may refer to:\n",
    "\n",
    "Billon (alloy), a metal alloy containing mostly copper or bronze with small quantity of silverBillon () is an alloy of a precious metal (most commonly silver, but also gold) with a majority base metal content (such as copper). It is used chiefly for making coins, medals, and token coins. The word comes from the French bille, which means \"log\". Any of several alloys of precious metals and base metals that are used (where legal) to make coins, medals etc. Using provided evidence above, Can you explain what is billon?\n",
    "\n",
    "A: After reviewing the additional context you provided, I understand that billon refers specifically to a metal alloy containing mostly copper or bronze, with a small quantity of silver or sometimes gold. More specifically:\n",
    "\n",
    "Billon is an alloy used chiefly for making coins, medals, and token coins. It contains a precious metal like silver or gold combined with a base metal like copper or bronze, with the base metal making up the majority of the content.\n",
    "\n",
    "The name \"billon\" comes from the French word \"bille\" meaning log or ingot. This refers to the fact that coins and medals were originally cast from logs or ingots of this billon alloy.\n",
    "\n",
    "So in summary, billon is not a pure precious metal, but rather an alloy containing a small amount of silver or gold mixed with mostly copper or bronze. It has properties suitable for minting and casting purposes like coinage, while using less of the costly precious metals. The specific ratios and metals can vary, but the key defining traits are:\n",
    "\n",
    "Primarily copper/bronze base metal\n",
    "Smaller quantity of silver or gold\n",
    "Used for making coins, medals, tokens"
   ]
  },
  {
   "cell_type": "markdown",
   "id": "529e3220",
   "metadata": {},
   "source": [
    "### Gigachad fix"
   ]
  },
  {
   "cell_type": "markdown",
   "id": "bf30d653",
   "metadata": {},
   "source": [
    "Q: Can you explain what is billon?\n",
    "\n",
    "A: \"Billon\" is a term that can have different meanings depending on the context. In general, it refers to a unit of measurement or a value representing a very large number.\n",
    "In mathematics, a \"billion\" is typically used as a synonym for the number 1,000,000,000 (one thousand million). It is often used in place of the word \"trillion\" when referring to smaller numbers.\n",
    "In some countries, \"billion\" is used as a prefix in the metric system to denote a factor of 10^9 (ten to the ninth power). For example, a \"billionaire\" is someone who has a net worth of one billion dollars.\n",
    "In financial and economic contexts, \"billion\" is often used to describe large sums of money or values. For instance, a company might report billion-dollar profits or a country's GDP might exceed a billion dollars.\n",
    "It's important to note that the use of \"billion\" can vary across different countries and languages. In some places, it may refer to a different value or unit of measurement.\n",
    "\n",
    "Q: Here are some ground truth information about billon: Billon may refer to:\n",
    "\n",
    "Billon (alloy), a metal alloy containing mostly copper or bronze with small quantity of silverBillon () is an alloy of a precious metal (most commonly silver, but also gold) with a majority base metal content (such as copper). It is used chiefly for making coins, medals, and token coins. The word comes from the French bille, which means \"log\". Any of several alloys of precious metals and base metals that are used (where legal) to make coins, medals etc. Using provided evidence above, Can you explain what is billon?\n",
    "\n",
    "A: \n",
    "Based on the information provided, \"billon\" can refer to different things. In the context of an alloy, \"billon\" is an alloy of a precious metal (usually silver) with a majority base metal content (such as copper). It is commonly used to make coins, medals, and token coins.\n",
    "In terms of unit of measurement, \"billion\" is typically used as a synonym for the number 1,000,000,000 (one thousand million). It is often used in place of the word \"trillion\" when referring to smaller numbers.\n",
    "It's important to note that the use of \"billion\" can vary across different countries and languages. In some places, it may refer to a different value or unit of measurement."
   ]
  },
  {
   "cell_type": "code",
   "execution_count": 114,
   "id": "4c1b7083",
   "metadata": {},
   "outputs": [
    {
     "name": "stdout",
     "output_type": "stream",
     "text": [
      "Here are some ground truth information about billon:\n",
      "Billon may refer to:\n",
      "\n",
      "Billon (alloy), a metal alloy containing mostly copper or bronze with small quantity of silverBillon () is an alloy of a precious metal (most commonly silver, but also gold) with a majority base metal content (such as copper). It is used chiefly for making coins, medals, and token coins.\n",
      "The word comes from the French bille, which means \"log\".\n",
      "Any of several alloys of precious metals and base metals that are used (where legal) to make coins, medals etc.\n",
      "Using provided evidence above, Can you explain what is billon?\n"
     ]
    }
   ],
   "source": [
    "print(make_prompt('Can you explain what is billon?', 'billon', top_k_definitions=3, top_k_wikipedia=2))"
   ]
  },
  {
   "cell_type": "markdown",
   "id": "a4f803d5",
   "metadata": {},
   "source": [
    "И так далее... Гигачад не чинится"
   ]
  }
 ],
 "metadata": {
  "kernelspec": {
   "display_name": "Python 3 (ipykernel)",
   "language": "python",
   "name": "python3"
  },
  "language_info": {
   "codemirror_mode": {
    "name": "ipython",
    "version": 3
   },
   "file_extension": ".py",
   "mimetype": "text/x-python",
   "name": "python",
   "nbconvert_exporter": "python",
   "pygments_lexer": "ipython3",
   "version": "3.9.12"
  }
 },
 "nbformat": 4,
 "nbformat_minor": 5
}
